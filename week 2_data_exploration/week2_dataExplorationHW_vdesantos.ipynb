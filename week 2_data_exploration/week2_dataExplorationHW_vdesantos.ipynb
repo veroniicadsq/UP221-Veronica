{
 "cells": [
  {
   "cell_type": "markdown",
   "id": "1f04b967-f6d1-486f-970d-b6bdc61f0099",
   "metadata": {},
   "source": [
    "# Week 2 Data Exploration\n",
    "## Veronica De Santos \n",
    "The purpose of this assigment is to work with [gis data](https://tims.berkeley.edu/)"
   ]
  },
  {
   "cell_type": "code",
   "execution_count": 1,
   "id": "037498ab-14dc-4fe5-9b3f-afb7424a4668",
   "metadata": {},
   "outputs": [
    {
     "name": "stdout",
     "output_type": "stream",
     "text": [
      "upload to GitHub\n"
     ]
    }
   ],
   "source": [
    "# printing demonstration to upload notebook to GitHub\n",
    "print('upload to GitHub')"
   ]
  },
  {
   "cell_type": "code",
   "execution_count": null,
   "id": "7b4de0be-451d-45e4-8630-ea3e043e3e46",
   "metadata": {},
   "outputs": [],
   "source": []
  }
 ],
 "metadata": {
  "kernelspec": {
   "display_name": "Python 3 (ipykernel)",
   "language": "python",
   "name": "python3"
  },
  "language_info": {
   "codemirror_mode": {
    "name": "ipython",
    "version": 3
   },
   "file_extension": ".py",
   "mimetype": "text/x-python",
   "name": "python",
   "nbconvert_exporter": "python",
   "pygments_lexer": "ipython3",
   "version": "3.11.9"
  }
 },
 "nbformat": 4,
 "nbformat_minor": 5
}
