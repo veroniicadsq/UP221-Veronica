{
 "cells": [
  {
   "cell_type": "markdown",
   "id": "e7d66d52-5196-4e3d-89d9-7593255bb5a1",
   "metadata": {},
   "source": [
    "# Week 2 Data Exploration\n",
    "## Veronica De Santos \n",
    "The purpose of this assigment is to work with [gis data](https://tims.berkeley.edu/)"
   ]
  },
  {
   "cell_type": "code",
   "execution_count": 71,
   "id": "d844eea9-5b9a-45e3-9cab-7b29c6355682",
   "metadata": {},
   "outputs": [],
   "source": [
    "# importing libraries for my data\n",
    "import pandas as pd"
   ]
  },
  {
   "cell_type": "code",
   "execution_count": 25,
   "id": "a2ad5082-ffb8-4824-a529-90ae42373b30",
   "metadata": {},
   "outputs": [],
   "source": [
    "# Load the CVS into a DataFrame\n",
    "data = pd.read_csv(\"crashes_azusa_20_24.csv\")"
   ]
  },
  {
   "cell_type": "code",
   "execution_count": 29,
   "id": "ee440673-4153-4558-8762-412cf35016c7",
   "metadata": {},
   "outputs": [
    {
     "data": {
      "text/html": [
       "<div>\n",
       "<style scoped>\n",
       "    .dataframe tbody tr th:only-of-type {\n",
       "        vertical-align: middle;\n",
       "    }\n",
       "\n",
       "    .dataframe tbody tr th {\n",
       "        vertical-align: top;\n",
       "    }\n",
       "\n",
       "    .dataframe thead th {\n",
       "        text-align: right;\n",
       "    }\n",
       "</style>\n",
       "<table border=\"1\" class=\"dataframe\">\n",
       "  <thead>\n",
       "    <tr style=\"text-align: right;\">\n",
       "      <th></th>\n",
       "      <th>CASE_ID</th>\n",
       "      <th>ACCIDENT_YEAR</th>\n",
       "      <th>PROC_DATE</th>\n",
       "      <th>JURIS</th>\n",
       "      <th>COLLISION_DATE</th>\n",
       "      <th>COLLISION_TIME</th>\n",
       "      <th>OFFICER_ID</th>\n",
       "      <th>REPORTING_DISTRICT</th>\n",
       "      <th>DAY_OF_WEEK</th>\n",
       "      <th>CHP_SHIFT</th>\n",
       "      <th>...</th>\n",
       "      <th>COUNT_MC_KILLED</th>\n",
       "      <th>COUNT_MC_INJURED</th>\n",
       "      <th>PRIMARY_RAMP</th>\n",
       "      <th>SECONDARY_RAMP</th>\n",
       "      <th>LATITUDE</th>\n",
       "      <th>LONGITUDE</th>\n",
       "      <th>COUNTY</th>\n",
       "      <th>CITY</th>\n",
       "      <th>POINT_X</th>\n",
       "      <th>POINT_Y</th>\n",
       "    </tr>\n",
       "  </thead>\n",
       "  <tbody>\n",
       "    <tr>\n",
       "      <th>0</th>\n",
       "      <td>8910943</td>\n",
       "      <td>2020</td>\n",
       "      <td>4/13/2020</td>\n",
       "      <td>1905</td>\n",
       "      <td>2/23/2020</td>\n",
       "      <td>1726</td>\n",
       "      <td>2019</td>\n",
       "      <td>801</td>\n",
       "      <td>7</td>\n",
       "      <td>5</td>\n",
       "      <td>...</td>\n",
       "      <td>1</td>\n",
       "      <td>0</td>\n",
       "      <td>-</td>\n",
       "      <td>-</td>\n",
       "      <td>34.140110</td>\n",
       "      <td>-117.896629</td>\n",
       "      <td>LOS ANGELES</td>\n",
       "      <td>AZUSA</td>\n",
       "      <td>-117.897148</td>\n",
       "      <td>34.139706</td>\n",
       "    </tr>\n",
       "    <tr>\n",
       "      <th>1</th>\n",
       "      <td>8911819</td>\n",
       "      <td>2020</td>\n",
       "      <td>6/11/2022</td>\n",
       "      <td>1905</td>\n",
       "      <td>1/27/2020</td>\n",
       "      <td>1327</td>\n",
       "      <td>1133</td>\n",
       "      <td>321</td>\n",
       "      <td>1</td>\n",
       "      <td>5</td>\n",
       "      <td>...</td>\n",
       "      <td>0</td>\n",
       "      <td>0</td>\n",
       "      <td>-</td>\n",
       "      <td>-</td>\n",
       "      <td>NaN</td>\n",
       "      <td>NaN</td>\n",
       "      <td>LOS ANGELES</td>\n",
       "      <td>AZUSA</td>\n",
       "      <td>-117.907532</td>\n",
       "      <td>34.132725</td>\n",
       "    </tr>\n",
       "    <tr>\n",
       "      <th>2</th>\n",
       "      <td>8911997</td>\n",
       "      <td>2020</td>\n",
       "      <td>6/11/2022</td>\n",
       "      <td>1905</td>\n",
       "      <td>4/22/2020</td>\n",
       "      <td>1856</td>\n",
       "      <td>1170</td>\n",
       "      <td>131</td>\n",
       "      <td>3</td>\n",
       "      <td>5</td>\n",
       "      <td>...</td>\n",
       "      <td>0</td>\n",
       "      <td>0</td>\n",
       "      <td>-</td>\n",
       "      <td>-</td>\n",
       "      <td>NaN</td>\n",
       "      <td>NaN</td>\n",
       "      <td>LOS ANGELES</td>\n",
       "      <td>AZUSA</td>\n",
       "      <td>-117.907707</td>\n",
       "      <td>34.117260</td>\n",
       "    </tr>\n",
       "    <tr>\n",
       "      <th>3</th>\n",
       "      <td>9034534</td>\n",
       "      <td>2020</td>\n",
       "      <td>11/3/2020</td>\n",
       "      <td>1905</td>\n",
       "      <td>1/8/2020</td>\n",
       "      <td>1818</td>\n",
       "      <td>1140</td>\n",
       "      <td>214</td>\n",
       "      <td>3</td>\n",
       "      <td>5</td>\n",
       "      <td>...</td>\n",
       "      <td>0</td>\n",
       "      <td>1</td>\n",
       "      <td>-</td>\n",
       "      <td>-</td>\n",
       "      <td>NaN</td>\n",
       "      <td>NaN</td>\n",
       "      <td>LOS ANGELES</td>\n",
       "      <td>AZUSA</td>\n",
       "      <td>-117.913994</td>\n",
       "      <td>34.124107</td>\n",
       "    </tr>\n",
       "    <tr>\n",
       "      <th>4</th>\n",
       "      <td>9036323</td>\n",
       "      <td>2020</td>\n",
       "      <td>3/18/2020</td>\n",
       "      <td>1905</td>\n",
       "      <td>1/8/2020</td>\n",
       "      <td>518</td>\n",
       "      <td>1133</td>\n",
       "      <td>134</td>\n",
       "      <td>3</td>\n",
       "      <td>5</td>\n",
       "      <td>...</td>\n",
       "      <td>0</td>\n",
       "      <td>0</td>\n",
       "      <td>-</td>\n",
       "      <td>-</td>\n",
       "      <td>34.117939</td>\n",
       "      <td>-117.916328</td>\n",
       "      <td>LOS ANGELES</td>\n",
       "      <td>AZUSA</td>\n",
       "      <td>-117.916359</td>\n",
       "      <td>34.117783</td>\n",
       "    </tr>\n",
       "  </tbody>\n",
       "</table>\n",
       "<p>5 rows × 80 columns</p>\n",
       "</div>"
      ],
      "text/plain": [
       "   CASE_ID  ACCIDENT_YEAR  PROC_DATE  JURIS COLLISION_DATE  COLLISION_TIME  \\\n",
       "0  8910943           2020  4/13/2020   1905      2/23/2020            1726   \n",
       "1  8911819           2020  6/11/2022   1905      1/27/2020            1327   \n",
       "2  8911997           2020  6/11/2022   1905      4/22/2020            1856   \n",
       "3  9034534           2020  11/3/2020   1905       1/8/2020            1818   \n",
       "4  9036323           2020  3/18/2020   1905       1/8/2020             518   \n",
       "\n",
       "  OFFICER_ID REPORTING_DISTRICT  DAY_OF_WEEK  CHP_SHIFT  ...  COUNT_MC_KILLED  \\\n",
       "0       2019                801            7          5  ...                1   \n",
       "1       1133                321            1          5  ...                0   \n",
       "2       1170                131            3          5  ...                0   \n",
       "3       1140                214            3          5  ...                0   \n",
       "4       1133                134            3          5  ...                0   \n",
       "\n",
       "   COUNT_MC_INJURED  PRIMARY_RAMP  SECONDARY_RAMP   LATITUDE   LONGITUDE  \\\n",
       "0                 0            -               -   34.140110 -117.896629   \n",
       "1                 0            -               -         NaN         NaN   \n",
       "2                 0            -               -         NaN         NaN   \n",
       "3                 1            -               -         NaN         NaN   \n",
       "4                 0            -               -   34.117939 -117.916328   \n",
       "\n",
       "        COUNTY   CITY     POINT_X    POINT_Y  \n",
       "0  LOS ANGELES  AZUSA -117.897148  34.139706  \n",
       "1  LOS ANGELES  AZUSA -117.907532  34.132725  \n",
       "2  LOS ANGELES  AZUSA -117.907707  34.117260  \n",
       "3  LOS ANGELES  AZUSA -117.913994  34.124107  \n",
       "4  LOS ANGELES  AZUSA -117.916359  34.117783  \n",
       "\n",
       "[5 rows x 80 columns]"
      ]
     },
     "execution_count": 29,
     "metadata": {},
     "output_type": "execute_result"
    }
   ],
   "source": [
    "# Explore data\n",
    "data.head()"
   ]
  },
  {
   "cell_type": "code",
   "execution_count": 30,
   "id": "8bd5fefc-96a4-4e2b-b918-8b03d6cb6d8c",
   "metadata": {},
   "outputs": [],
   "source": [
    "df = pd.read_csv(\"crashes_azusa_20_24.csv\")"
   ]
  },
  {
   "cell_type": "code",
   "execution_count": 33,
   "id": "5173f405-5d28-4d45-827e-238cbe3712c7",
   "metadata": {},
   "outputs": [
    {
     "name": "stdout",
     "output_type": "stream",
     "text": [
      "(704, 80)\n"
     ]
    }
   ],
   "source": [
    "# Check rows and columns\n",
    "print(df.shape)"
   ]
  },
  {
   "cell_type": "code",
   "execution_count": 34,
   "id": "dd2b1c2d-1b4e-4ef5-a575-302ebd5bc779",
   "metadata": {},
   "outputs": [
    {
     "name": "stdout",
     "output_type": "stream",
     "text": [
      "<class 'pandas.core.frame.DataFrame'>\n",
      "RangeIndex: 704 entries, 0 to 703\n",
      "Data columns (total 80 columns):\n",
      " #   Column                   Non-Null Count  Dtype  \n",
      "---  ------                   --------------  -----  \n",
      " 0   CASE_ID                  704 non-null    int64  \n",
      " 1   ACCIDENT_YEAR            704 non-null    int64  \n",
      " 2   PROC_DATE                704 non-null    object \n",
      " 3   JURIS                    704 non-null    int64  \n",
      " 4   COLLISION_DATE           704 non-null    object \n",
      " 5   COLLISION_TIME           704 non-null    int64  \n",
      " 6   OFFICER_ID               704 non-null    object \n",
      " 7   REPORTING_DISTRICT       367 non-null    object \n",
      " 8   DAY_OF_WEEK              704 non-null    int64  \n",
      " 9   CHP_SHIFT                704 non-null    int64  \n",
      " 10  POPULATION               704 non-null    int64  \n",
      " 11  CNTY_CITY_LOC            704 non-null    int64  \n",
      " 12  SPECIAL_COND             704 non-null    int64  \n",
      " 13  BEAT_TYPE                704 non-null    int64  \n",
      " 14  CHP_BEAT_TYPE            704 non-null    object \n",
      " 15  CITY_DIVISION_LAPD       0 non-null      float64\n",
      " 16  CHP_BEAT_CLASS           704 non-null    int64  \n",
      " 17  BEAT_NUMBER              700 non-null    float64\n",
      " 18  PRIMARY_RD               704 non-null    object \n",
      " 19  SECONDARY_RD             704 non-null    object \n",
      " 20  DISTANCE                 704 non-null    float64\n",
      " 21  DIRECTION                559 non-null    object \n",
      " 22  INTERSECTION             704 non-null    object \n",
      " 23  WEATHER_1                704 non-null    object \n",
      " 24  WEATHER_2                704 non-null    object \n",
      " 25  STATE_HWY_IND            704 non-null    object \n",
      " 26  CALTRANS_COUNTY          189 non-null    object \n",
      " 27  CALTRANS_DISTRICT        19 non-null     float64\n",
      " 28  STATE_ROUTE              326 non-null    float64\n",
      " 29  ROUTE_SUFFIX             19 non-null     object \n",
      " 30  POSTMILE_PREFIX          186 non-null    object \n",
      " 31  POSTMILE                 189 non-null    float64\n",
      " 32  LOCATION_TYPE            205 non-null    object \n",
      " 33  RAMP_INTERSECTION        19 non-null     object \n",
      " 34  SIDE_OF_HWY              324 non-null    object \n",
      " 35  TOW_AWAY                 704 non-null    object \n",
      " 36  COLLISION_SEVERITY       704 non-null    int64  \n",
      " 37  NUMBER_KILLED            704 non-null    int64  \n",
      " 38  NUMBER_INJURED           704 non-null    int64  \n",
      " 39  PARTY_COUNT              704 non-null    int64  \n",
      " 40  PRIMARY_COLL_FACTOR      704 non-null    object \n",
      " 41  PCF_CODE_OF_VIOL         704 non-null    object \n",
      " 42  PCF_VIOL_CATEGORY        704 non-null    object \n",
      " 43  PCF_VIOLATION            676 non-null    float64\n",
      " 44  PCF_VIOL_SUBSECTION      311 non-null    object \n",
      " 45  HIT_AND_RUN              704 non-null    object \n",
      " 46  TYPE_OF_COLLISION        704 non-null    object \n",
      " 47  MVIW                     704 non-null    object \n",
      " 48  PED_ACTION               704 non-null    object \n",
      " 49  ROAD_SURFACE             704 non-null    object \n",
      " 50  ROAD_COND_1              704 non-null    object \n",
      " 51  ROAD_COND_2              704 non-null    object \n",
      " 52  LIGHTING                 704 non-null    object \n",
      " 53  CONTROL_DEVICE           704 non-null    object \n",
      " 54  CHP_ROAD_TYPE            704 non-null    int64  \n",
      " 55  PEDESTRIAN_ACCIDENT      37 non-null     object \n",
      " 56  BICYCLE_ACCIDENT         35 non-null     object \n",
      " 57  MOTORCYCLE_ACCIDENT      66 non-null     object \n",
      " 58  TRUCK_ACCIDENT           58 non-null     object \n",
      " 59  NOT_PRIVATE_PROPERTY     704 non-null    object \n",
      " 60  ALCOHOL_INVOLVED         72 non-null     object \n",
      " 61  STWD_VEHTYPE_AT_FAULT    704 non-null    object \n",
      " 62  CHP_VEHTYPE_AT_FAULT     698 non-null    object \n",
      " 63  COUNT_SEVERE_INJ         704 non-null    int64  \n",
      " 64  COUNT_VISIBLE_INJ        704 non-null    int64  \n",
      " 65  COUNT_COMPLAINT_PAIN     704 non-null    int64  \n",
      " 66  COUNT_PED_KILLED         704 non-null    int64  \n",
      " 67  COUNT_PED_INJURED        704 non-null    int64  \n",
      " 68  COUNT_BICYCLIST_KILLED   704 non-null    int64  \n",
      " 69  COUNT_BICYCLIST_INJURED  704 non-null    int64  \n",
      " 70  COUNT_MC_KILLED          704 non-null    int64  \n",
      " 71  COUNT_MC_INJURED         704 non-null    int64  \n",
      " 72  PRIMARY_RAMP             704 non-null    object \n",
      " 73  SECONDARY_RAMP           704 non-null    object \n",
      " 74  LATITUDE                 626 non-null    float64\n",
      " 75  LONGITUDE                626 non-null    float64\n",
      " 76  COUNTY                   704 non-null    object \n",
      " 77  CITY                     704 non-null    object \n",
      " 78  POINT_X                  704 non-null    float64\n",
      " 79  POINT_Y                  704 non-null    float64\n",
      "dtypes: float64(11), int64(25), object(44)\n",
      "memory usage: 440.1+ KB\n",
      "None\n"
     ]
    }
   ],
   "source": [
    "# check data types and missing values\n",
    "print(df.info())"
   ]
  },
  {
   "cell_type": "code",
   "execution_count": 35,
   "id": "e05d47ab-d645-4635-9c06-4fc96a4ba66e",
   "metadata": {},
   "outputs": [
    {
     "name": "stdout",
     "output_type": "stream",
     "text": [
      "   CASE_ID  ACCIDENT_YEAR  PROC_DATE  JURIS COLLISION_DATE  COLLISION_TIME  \\\n",
      "0  8910943           2020  4/13/2020   1905      2/23/2020            1726   \n",
      "1  8911819           2020  6/11/2022   1905      1/27/2020            1327   \n",
      "2  8911997           2020  6/11/2022   1905      4/22/2020            1856   \n",
      "3  9034534           2020  11/3/2020   1905       1/8/2020            1818   \n",
      "4  9036323           2020  3/18/2020   1905       1/8/2020             518   \n",
      "\n",
      "  OFFICER_ID REPORTING_DISTRICT  DAY_OF_WEEK  CHP_SHIFT  ...  COUNT_MC_KILLED  \\\n",
      "0       2019                801            7          5  ...                1   \n",
      "1       1133                321            1          5  ...                0   \n",
      "2       1170                131            3          5  ...                0   \n",
      "3       1140                214            3          5  ...                0   \n",
      "4       1133                134            3          5  ...                0   \n",
      "\n",
      "   COUNT_MC_INJURED  PRIMARY_RAMP  SECONDARY_RAMP   LATITUDE   LONGITUDE  \\\n",
      "0                 0            -               -   34.140110 -117.896629   \n",
      "1                 0            -               -         NaN         NaN   \n",
      "2                 0            -               -         NaN         NaN   \n",
      "3                 1            -               -         NaN         NaN   \n",
      "4                 0            -               -   34.117939 -117.916328   \n",
      "\n",
      "        COUNTY   CITY     POINT_X    POINT_Y  \n",
      "0  LOS ANGELES  AZUSA -117.897148  34.139706  \n",
      "1  LOS ANGELES  AZUSA -117.907532  34.132725  \n",
      "2  LOS ANGELES  AZUSA -117.907707  34.117260  \n",
      "3  LOS ANGELES  AZUSA -117.913994  34.124107  \n",
      "4  LOS ANGELES  AZUSA -117.916359  34.117783  \n",
      "\n",
      "[5 rows x 80 columns]\n"
     ]
    }
   ],
   "source": [
    "# view the first rows\n",
    "print(df.head())"
   ]
  },
  {
   "cell_type": "code",
   "execution_count": 37,
   "id": "b844b378-2c88-415e-aaee-66fba47be21b",
   "metadata": {},
   "outputs": [
    {
     "name": "stdout",
     "output_type": "stream",
     "text": [
      "ACCIDENT_YEAR\n",
      "2022    188\n",
      "2021    178\n",
      "2020    172\n",
      "2023    111\n",
      "2024     55\n",
      "Name: count, dtype: int64\n"
     ]
    }
   ],
   "source": [
    "# Number of crashes per year\n",
    "crashes_per_year = df['ACCIDENT_YEAR'].value_counts()\n",
    "print(crashes_per_year)"
   ]
  },
  {
   "cell_type": "code",
   "execution_count": 38,
   "id": "fb905cec-cffc-4e08-863e-21c3a60da785",
   "metadata": {},
   "outputs": [],
   "source": [
    "# plot crashes by year\n",
    "import matplotlib.pyplot as plt"
   ]
  },
  {
   "cell_type": "code",
   "execution_count": 39,
   "id": "c061d8cb-9abd-4a8a-8199-65eec46cbf62",
   "metadata": {},
   "outputs": [
    {
     "data": {
      "image/png": "[encoded data removed]",
      "text/plain": [
       "<Figure size 640x480 with 1 Axes>"
      ]
     },
     "metadata": {},
     "output_type": "display_data"
    }
   ],
   "source": [
    "crashes_per_year.sort_index().plot(kind='bar', color='skyblue')\n",
    "plt.title('Number of Crashes by Year')\n",
    "plt.xlabel('Year')\n",
    "plt.ylabel('Number of Crashes')\n",
    "plt.xticks(rotation=45)\n",
    "plt.show()"
   ]
  },
  {
   "cell_type": "code",
   "execution_count": 40,
   "id": "df36d0fa-2099-49cb-b869-46274a1d8430",
   "metadata": {},
   "outputs": [
    {
     "name": "stdout",
     "output_type": "stream",
     "text": [
      "DAY_OF_WEEK\n",
      "5    126\n",
      "2    101\n",
      "3    100\n",
      "4     99\n",
      "1     94\n",
      "6     93\n",
      "7     91\n",
      "Name: count, dtype: int64\n"
     ]
    }
   ],
   "source": [
    "# most common days of the week for crashes\n",
    "crashes_by_day = df['DAY_OF_WEEK'].value_counts()\n",
    "print(crashes_by_day)"
   ]
  },
  {
   "cell_type": "code",
   "execution_count": 41,
   "id": "ac5ac4be-2b58-4714-b056-fad2b71e8378",
   "metadata": {},
   "outputs": [
    {
     "data": {
      "image/png": "[encoded data removed]",
      "text/plain": [
       "<Figure size 640x480 with 1 Axes>"
      ]
     },
     "metadata": {},
     "output_type": "display_data"
    }
   ],
   "source": [
    "# Bar plot\n",
    "crashes_by_day.plot(kind='bar', color='orange')\n",
    "plt.title('Crashes by Day of the Week')\n",
    "plt.xlabel('Day of the Week')\n",
    "plt.ylabel('Number of Crashes')\n",
    "plt.show()"
   ]
  },
  {
   "cell_type": "code",
   "execution_count": 44,
   "id": "1c1ba866-55a4-48e9-a32d-c3083378622d",
   "metadata": {},
   "outputs": [],
   "source": [
    "# crash locations on a map, convert GeoDataFrame\n",
    "import geopandas as gpd\n",
    "from shapely.geometry import Point"
   ]
  },
  {
   "cell_type": "code",
   "execution_count": 45,
   "id": "bcf87566-8ca3-4f90-8d97-c97fe60c87b8",
   "metadata": {},
   "outputs": [],
   "source": [
    "# create a GeoDataFrame\n",
    "geometry = [Point(xy) for xy in zip(df['LONGITUDE'], df['LATITUDE'])]\n",
    "geo_df = gpd.GeoDataFrame(df, geometry=geometry)"
   ]
  },
  {
   "cell_type": "code",
   "execution_count": 46,
   "id": "58544d7e-b8f8-409b-bdc2-3c7f5d2a8a34",
   "metadata": {},
   "outputs": [],
   "source": [
    "# filter for crashes in Azusa only\n",
    "geo_azusa = geo_df[geo_df['CITY'] == 'Azusa']"
   ]
  },
  {
   "cell_type": "code",
   "execution_count": 49,
   "id": "caa74d06-b888-4ce0-87f7-e4ed8f8068b0",
   "metadata": {},
   "outputs": [
    {
     "name": "stdout",
     "output_type": "stream",
     "text": [
      "    LATITUDE   LONGITUDE\n",
      "0  34.140110 -117.896629\n",
      "1        NaN         NaN\n",
      "2        NaN         NaN\n",
      "3        NaN         NaN\n",
      "4  34.117939 -117.916328\n"
     ]
    }
   ],
   "source": [
    "print(df[['LATITUDE', 'LONGITUDE']].head())"
   ]
  },
  {
   "cell_type": "code",
   "execution_count": 50,
   "id": "0bdd52f2-c600-4dcb-96c5-edeeb36f9921",
   "metadata": {},
   "outputs": [
    {
     "name": "stdout",
     "output_type": "stream",
     "text": [
      "LATITUDE     78\n",
      "LONGITUDE    78\n",
      "dtype: int64\n"
     ]
    }
   ],
   "source": [
    "print(df[['LATITUDE', 'LONGITUDE']].isnull().sum())"
   ]
  },
  {
   "cell_type": "code",
   "execution_count": 51,
   "id": "880610d4-280d-4951-925a-60fc6f43726b",
   "metadata": {},
   "outputs": [],
   "source": [
    "df = df.dropna(subset=['LATITUDE', 'LONGITUDE'])"
   ]
  },
  {
   "cell_type": "code",
   "execution_count": 52,
   "id": "5522f376-8006-45a1-a65f-f9d7d1e5b2eb",
   "metadata": {},
   "outputs": [],
   "source": [
    "from shapely.geometry import Point\n",
    "import geopandas as gpd"
   ]
  },
  {
   "cell_type": "code",
   "execution_count": 53,
   "id": "411967af-4481-403e-a3d3-6d95bae2a16a",
   "metadata": {},
   "outputs": [],
   "source": [
    "# Create geometry from Longitude and Latitude\n",
    "df['geometry'] = [Point(xy) for xy in zip(df['LONGITUDE'], df['LATITUDE'])]"
   ]
  },
  {
   "cell_type": "code",
   "execution_count": 54,
   "id": "c8781276-65ee-4aa2-9d3b-e6b5ecc43172",
   "metadata": {},
   "outputs": [],
   "source": [
    "# Convert to GeoDataFrame\n",
    "geo_df = gpd.GeoDataFrame(df, geometry='geometry')"
   ]
  },
  {
   "cell_type": "code",
   "execution_count": 55,
   "id": "0f3ebab0-5c6a-44af-a611-46cf6a765e83",
   "metadata": {},
   "outputs": [
    {
     "data": {
      "image/png": "[encoded data removed]",
      "text/plain": [
       "<Figure size 1000x800 with 1 Axes>"
      ]
     },
     "metadata": {},
     "output_type": "display_data"
    }
   ],
   "source": [
    "geo_df.plot(figsize=(10, 8), color='red', markersize=5)\n",
    "plt.title('Crash Locations in Azusa, California')\n",
    "plt.xlabel('Longitude')\n",
    "plt.ylabel('Latitude')\n",
    "plt.show()"
   ]
  },
  {
   "cell_type": "code",
   "execution_count": 60,
   "id": "8131b135-8676-4251-85e2-c444265cad8c",
   "metadata": {},
   "outputs": [
    {
     "name": "stdout",
     "output_type": "stream",
     "text": [
      "Longitude variance: nan\n",
      "Latitude variance: nan\n"
     ]
    }
   ],
   "source": [
    "print(\"Longitude variance:\", geo_azusa['LONGITUDE'].var())\n",
    "print(\"Latitude variance:\", geo_azusa['LATITUDE'].var())"
   ]
  },
  {
   "cell_type": "code",
   "execution_count": null,
   "id": "218c1403-0c9f-46fe-880e-c934176f0d16",
   "metadata": {},
   "outputs": [],
   "source": [
    "# My data has invalud numeric data for longitud and latitude"
   ]
  },
  {
   "cell_type": "code",
   "execution_count": 70,
   "id": "881e8a8c-51f5-42c4-b53e-8aa5970bd04e",
   "metadata": {},
   "outputs": [],
   "source": [
    "# Injuries and Fatalities by year\n",
    "injuries_by_year = df.groupby('ACCIDENT_YEAR')['COUNT_MC_INJURED'].sum()\n",
    "fatalities_by_year = df.groupby('ACCIDENT_YEAR')['COUNT_MC_KILLED'].sum()"
   ]
  },
  {
   "cell_type": "code",
   "execution_count": 68,
   "id": "2f27d674-5c8d-4ce0-bc46-4be46ca90bf6",
   "metadata": {},
   "outputs": [
    {
     "data": {
      "image/png": "[encoded data removed]",
      "text/plain": [
       "<Figure size 640x480 with 1 Axes>"
      ]
     },
     "metadata": {},
     "output_type": "display_data"
    }
   ],
   "source": [
    "# Plot injuries and fatalities\n",
    "plt.plot(injuries_by_year, label='Injuries', marker='o')\n",
    "plt.plot(fatalities_by_year, label='Fatalities', marker='o', color='red')\n",
    "plt.title('Injuries and Fatalities by Year')\n",
    "plt.xlabel('Year')\n",
    "plt.ylabel('Count')\n",
    "plt.legend()\n",
    "plt.show()"
   ]
  }
 ],
 "metadata": {
  "kernelspec": {
   "display_name": "Python 3 (ipykernel)",
   "language": "python",
   "name": "python3"
  },
  "language_info": {
   "codemirror_mode": {
    "name": "ipython",
    "version": 3
   },
   "file_extension": ".py",
   "mimetype": "text/x-python",
   "name": "python",
   "nbconvert_exporter": "python",
   "pygments_lexer": "ipython3",
   "version": "3.11.9"
  }
 },
 "nbformat": 4,
 "nbformat_minor": 5
}
